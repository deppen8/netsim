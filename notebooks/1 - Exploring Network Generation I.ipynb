{
 "cells": [
  {
   "cell_type": "markdown",
   "metadata": {},
   "source": [
    "# 1 - Exploring Network Generation I"
   ]
  },
  {
   "cell_type": "markdown",
   "metadata": {},
   "source": [
    "Netsim package includes two key modules:\n",
    "- `generate` (network generator). This module includes several functions aimed at generating different network configurations. This module is the subject of this notebook.\n",
    "- `simulate` (network simulation). This is the subject of tutorial 3. "
   ]
  },
  {
   "cell_type": "markdown",
   "metadata": {},
   "source": [
    "The *NetSim* simulation uses information stored in a (attribute) table to set up the simulation. The table must contain a series columns with concrete header names (see below). Values within these columns must be restricted to specific ranges. \n",
    "- *id*: exclusive identifier for each location. \n",
    "- *group*: identifies a location as being part of a specific group. Groups can be of any size. Groups of size 1 will  automatically mixed (see below) with the following groups. A column with a single group affiliation will be created in case this column does not exist. *Default*:1.\n",
    "- *seq*: identifies rank/ordering of location within a group. There are two possible options:\n",
    "  - *No ordering/ ranking (default)*. Within each group use a **single** value for all locations in that group if you do not want to identify any particular ranking or ordering within the group. Depending on the number of locations in the group, the *NetSim* with either generate all possible permutations or a particular fixed number, *num_samples* of randomized samples (with repetition).\n",
    "  - *Ordering /ranking*. To specify the order in which locations are going to join a network, use any sequence of numbers (with no repetitions) for all locations in a group.\n",
    "\n",
    "If any of these columns are not present the simulation will genereate these and populate them with default values. "
   ]
  },
  {
   "cell_type": "markdown",
   "metadata": {},
   "source": [
    "### Imports"
   ]
  },
  {
   "cell_type": "code",
   "execution_count": 2,
   "metadata": {},
   "outputs": [],
   "source": [
    "import geopandas as gpd\n",
    "import netsim.generate as ng\n",
    "from pathlib import Path"
   ]
  },
  {
   "cell_type": "markdown",
   "metadata": {},
   "source": [
    "### Set data path"
   ]
  },
  {
   "cell_type": "code",
   "execution_count": 4,
   "metadata": {},
   "outputs": [
    {
     "data": {
      "text/plain": [
       "PosixPath('/Users/jacobdeppen/Desktop/netsim/data')"
      ]
     },
     "execution_count": 4,
     "metadata": {},
     "output_type": "execute_result"
    }
   ],
   "source": [
    "data_path = Path.cwd().parent / \"data\"\n",
    "data_path"
   ]
  },
  {
   "cell_type": "markdown",
   "metadata": {},
   "source": [
    "### Read a sample shapefile"
   ]
  },
  {
   "cell_type": "code",
   "execution_count": 5,
   "metadata": {},
   "outputs": [],
   "source": [
    "fn_shp = data_path / \"sample\" / \"sample5.shp\""
   ]
  },
  {
   "cell_type": "markdown",
   "metadata": {},
   "source": [
    "We use geopandas to read the shapefile that contains the location and the columns needed to run the simulation. In case the location file is a simple a text file, e.g. *comma-delimited* or *csv*, use\n",
    "```python\n",
    "import pandas as pd\n",
    "df = pd.read_csv(filename)\n",
    "```\n",
    "instead.\n"
   ]
  },
  {
   "cell_type": "code",
   "execution_count": 6,
   "metadata": {},
   "outputs": [
    {
     "data": {
      "text/html": [
       "<div>\n",
       "<style scoped>\n",
       "    .dataframe tbody tr th:only-of-type {\n",
       "        vertical-align: middle;\n",
       "    }\n",
       "\n",
       "    .dataframe tbody tr th {\n",
       "        vertical-align: top;\n",
       "    }\n",
       "\n",
       "    .dataframe thead th {\n",
       "        text-align: right;\n",
       "    }\n",
       "</style>\n",
       "<table border=\"1\" class=\"dataframe\">\n",
       "  <thead>\n",
       "    <tr style=\"text-align: right;\">\n",
       "      <th></th>\n",
       "      <th>id</th>\n",
       "      <th>seq</th>\n",
       "      <th>group</th>\n",
       "      <th>mix</th>\n",
       "      <th>easting</th>\n",
       "      <th>northing</th>\n",
       "      <th>geometry</th>\n",
       "    </tr>\n",
       "  </thead>\n",
       "  <tbody>\n",
       "    <tr>\n",
       "      <th>0</th>\n",
       "      <td>0</td>\n",
       "      <td>1</td>\n",
       "      <td>1</td>\n",
       "      <td>0</td>\n",
       "      <td>530782</td>\n",
       "      <td>4389390</td>\n",
       "      <td>POINT (530782.000 4389390.000)</td>\n",
       "    </tr>\n",
       "    <tr>\n",
       "      <th>1</th>\n",
       "      <td>1</td>\n",
       "      <td>1</td>\n",
       "      <td>1</td>\n",
       "      <td>0</td>\n",
       "      <td>531119</td>\n",
       "      <td>4388860</td>\n",
       "      <td>POINT (531119.000 4388860.000)</td>\n",
       "    </tr>\n",
       "    <tr>\n",
       "      <th>2</th>\n",
       "      <td>2</td>\n",
       "      <td>1</td>\n",
       "      <td>1</td>\n",
       "      <td>0</td>\n",
       "      <td>530403</td>\n",
       "      <td>4388580</td>\n",
       "      <td>POINT (530403.000 4388580.000)</td>\n",
       "    </tr>\n",
       "    <tr>\n",
       "      <th>3</th>\n",
       "      <td>3</td>\n",
       "      <td>1</td>\n",
       "      <td>1</td>\n",
       "      <td>0</td>\n",
       "      <td>530503</td>\n",
       "      <td>4388620</td>\n",
       "      <td>POINT (530503.000 4388620.000)</td>\n",
       "    </tr>\n",
       "    <tr>\n",
       "      <th>4</th>\n",
       "      <td>4</td>\n",
       "      <td>1</td>\n",
       "      <td>1</td>\n",
       "      <td>0</td>\n",
       "      <td>530729</td>\n",
       "      <td>4388930</td>\n",
       "      <td>POINT (530729.000 4388930.000)</td>\n",
       "    </tr>\n",
       "    <tr>\n",
       "      <th>5</th>\n",
       "      <td>5</td>\n",
       "      <td>1</td>\n",
       "      <td>1</td>\n",
       "      <td>0</td>\n",
       "      <td>530606</td>\n",
       "      <td>4389150</td>\n",
       "      <td>POINT (530606.000 4389150.000)</td>\n",
       "    </tr>\n",
       "  </tbody>\n",
       "</table>\n",
       "</div>"
      ],
      "text/plain": [
       "   id  seq  group  mix  easting  northing                        geometry\n",
       "0   0    1      1    0   530782   4389390  POINT (530782.000 4389390.000)\n",
       "1   1    1      1    0   531119   4388860  POINT (531119.000 4388860.000)\n",
       "2   2    1      1    0   530403   4388580  POINT (530403.000 4388580.000)\n",
       "3   3    1      1    0   530503   4388620  POINT (530503.000 4388620.000)\n",
       "4   4    1      1    0   530729   4388930  POINT (530729.000 4388930.000)\n",
       "5   5    1      1    0   530606   4389150  POINT (530606.000 4389150.000)"
      ]
     },
     "execution_count": 6,
     "metadata": {},
     "output_type": "execute_result"
    }
   ],
   "source": [
    "df= gpd.read_file(fn_shp)\n",
    "df"
   ]
  },
  {
   "cell_type": "markdown",
   "metadata": {},
   "source": [
    "**N.B.** It is a good idea to make a copy of your original table in case we need to change values along the way"
   ]
  },
  {
   "cell_type": "markdown",
   "metadata": {},
   "source": [
    "### Checking values\n",
    "\n",
    "We run the ```check()``` function in the *netgen* module to check whether the table with the information needed to run the simulation has all the appropriate columns and values within these. "
   ]
  },
  {
   "cell_type": "code",
   "execution_count": 4,
   "metadata": {},
   "outputs": [
    {
     "name": "stdout",
     "output_type": "stream",
     "text": [
      "\n",
      " No corrections or errors !! \n"
     ]
    }
   ],
   "source": [
    "df = ng.check(df)"
   ]
  },
  {
   "cell_type": "markdown",
   "metadata": {},
   "source": [
    "Let's introduce some errors and see how the ```check()``` function behaves. Let's remove the 'seq' column."
   ]
  },
  {
   "cell_type": "code",
   "execution_count": 5,
   "metadata": {},
   "outputs": [],
   "source": [
    "df.drop(columns=['seq'], inplace= True)"
   ]
  },
  {
   "cell_type": "code",
   "execution_count": 6,
   "metadata": {},
   "outputs": [
    {
     "name": "stdout",
     "output_type": "stream",
     "text": [
      "\n",
      "seq column - created sequence with no sequence (default 1.) !\n"
     ]
    },
    {
     "data": {
      "text/html": [
       "<div>\n",
       "<style scoped>\n",
       "    .dataframe tbody tr th:only-of-type {\n",
       "        vertical-align: middle;\n",
       "    }\n",
       "\n",
       "    .dataframe tbody tr th {\n",
       "        vertical-align: top;\n",
       "    }\n",
       "\n",
       "    .dataframe thead th {\n",
       "        text-align: right;\n",
       "    }\n",
       "</style>\n",
       "<table border=\"1\" class=\"dataframe\">\n",
       "  <thead>\n",
       "    <tr style=\"text-align: right;\">\n",
       "      <th></th>\n",
       "      <th>id</th>\n",
       "      <th>group</th>\n",
       "      <th>mix</th>\n",
       "      <th>easting</th>\n",
       "      <th>northing</th>\n",
       "      <th>geometry</th>\n",
       "      <th>seq</th>\n",
       "    </tr>\n",
       "  </thead>\n",
       "  <tbody>\n",
       "    <tr>\n",
       "      <th>0</th>\n",
       "      <td>0</td>\n",
       "      <td>1</td>\n",
       "      <td>0</td>\n",
       "      <td>530782</td>\n",
       "      <td>4389390</td>\n",
       "      <td>POINT (530782 4389390)</td>\n",
       "      <td>1</td>\n",
       "    </tr>\n",
       "    <tr>\n",
       "      <th>1</th>\n",
       "      <td>1</td>\n",
       "      <td>1</td>\n",
       "      <td>0</td>\n",
       "      <td>531119</td>\n",
       "      <td>4388860</td>\n",
       "      <td>POINT (531119 4388860)</td>\n",
       "      <td>1</td>\n",
       "    </tr>\n",
       "    <tr>\n",
       "      <th>2</th>\n",
       "      <td>2</td>\n",
       "      <td>1</td>\n",
       "      <td>0</td>\n",
       "      <td>530403</td>\n",
       "      <td>4388580</td>\n",
       "      <td>POINT (530403 4388580)</td>\n",
       "      <td>1</td>\n",
       "    </tr>\n",
       "    <tr>\n",
       "      <th>3</th>\n",
       "      <td>3</td>\n",
       "      <td>1</td>\n",
       "      <td>0</td>\n",
       "      <td>530503</td>\n",
       "      <td>4388620</td>\n",
       "      <td>POINT (530503 4388620)</td>\n",
       "      <td>1</td>\n",
       "    </tr>\n",
       "    <tr>\n",
       "      <th>4</th>\n",
       "      <td>4</td>\n",
       "      <td>1</td>\n",
       "      <td>0</td>\n",
       "      <td>530729</td>\n",
       "      <td>4388930</td>\n",
       "      <td>POINT (530729 4388930)</td>\n",
       "      <td>1</td>\n",
       "    </tr>\n",
       "    <tr>\n",
       "      <th>5</th>\n",
       "      <td>5</td>\n",
       "      <td>1</td>\n",
       "      <td>0</td>\n",
       "      <td>530606</td>\n",
       "      <td>4389150</td>\n",
       "      <td>POINT (530606 4389150)</td>\n",
       "      <td>1</td>\n",
       "    </tr>\n",
       "  </tbody>\n",
       "</table>\n",
       "</div>"
      ],
      "text/plain": [
       "   id  group  mix  easting  northing                geometry  seq\n",
       "0   0      1    0   530782   4389390  POINT (530782 4389390)    1\n",
       "1   1      1    0   531119   4388860  POINT (531119 4388860)    1\n",
       "2   2      1    0   530403   4388580  POINT (530403 4388580)    1\n",
       "3   3      1    0   530503   4388620  POINT (530503 4388620)    1\n",
       "4   4      1    0   530729   4388930  POINT (530729 4388930)    1\n",
       "5   5      1    0   530606   4389150  POINT (530606 4389150)    1"
      ]
     },
     "execution_count": 6,
     "metadata": {},
     "output_type": "execute_result"
    }
   ],
   "source": [
    "df = ng.check(df)\n",
    "df"
   ]
  },
  {
   "cell_type": "markdown",
   "metadata": {},
   "source": [
    "The sequence ('seq') column must contain a value of '1' or a montonic sequence of numbers per group. Let's change it so that the sequence we have is no longer monotonic "
   ]
  },
  {
   "cell_type": "code",
   "execution_count": 7,
   "metadata": {},
   "outputs": [
    {
     "data": {
      "text/html": [
       "<div>\n",
       "<style scoped>\n",
       "    .dataframe tbody tr th:only-of-type {\n",
       "        vertical-align: middle;\n",
       "    }\n",
       "\n",
       "    .dataframe tbody tr th {\n",
       "        vertical-align: top;\n",
       "    }\n",
       "\n",
       "    .dataframe thead th {\n",
       "        text-align: right;\n",
       "    }\n",
       "</style>\n",
       "<table border=\"1\" class=\"dataframe\">\n",
       "  <thead>\n",
       "    <tr style=\"text-align: right;\">\n",
       "      <th></th>\n",
       "      <th>id</th>\n",
       "      <th>group</th>\n",
       "      <th>mix</th>\n",
       "      <th>easting</th>\n",
       "      <th>northing</th>\n",
       "      <th>geometry</th>\n",
       "      <th>seq</th>\n",
       "    </tr>\n",
       "  </thead>\n",
       "  <tbody>\n",
       "    <tr>\n",
       "      <th>0</th>\n",
       "      <td>0</td>\n",
       "      <td>1</td>\n",
       "      <td>0</td>\n",
       "      <td>530782</td>\n",
       "      <td>4389390</td>\n",
       "      <td>POINT (530782 4389390)</td>\n",
       "      <td>1</td>\n",
       "    </tr>\n",
       "    <tr>\n",
       "      <th>1</th>\n",
       "      <td>1</td>\n",
       "      <td>1</td>\n",
       "      <td>0</td>\n",
       "      <td>531119</td>\n",
       "      <td>4388860</td>\n",
       "      <td>POINT (531119 4388860)</td>\n",
       "      <td>1</td>\n",
       "    </tr>\n",
       "    <tr>\n",
       "      <th>2</th>\n",
       "      <td>2</td>\n",
       "      <td>1</td>\n",
       "      <td>0</td>\n",
       "      <td>530403</td>\n",
       "      <td>4388580</td>\n",
       "      <td>POINT (530403 4388580)</td>\n",
       "      <td>1</td>\n",
       "    </tr>\n",
       "    <tr>\n",
       "      <th>3</th>\n",
       "      <td>3</td>\n",
       "      <td>1</td>\n",
       "      <td>0</td>\n",
       "      <td>530503</td>\n",
       "      <td>4388620</td>\n",
       "      <td>POINT (530503 4388620)</td>\n",
       "      <td>2</td>\n",
       "    </tr>\n",
       "    <tr>\n",
       "      <th>4</th>\n",
       "      <td>4</td>\n",
       "      <td>1</td>\n",
       "      <td>0</td>\n",
       "      <td>530729</td>\n",
       "      <td>4388930</td>\n",
       "      <td>POINT (530729 4388930)</td>\n",
       "      <td>1</td>\n",
       "    </tr>\n",
       "    <tr>\n",
       "      <th>5</th>\n",
       "      <td>5</td>\n",
       "      <td>1</td>\n",
       "      <td>0</td>\n",
       "      <td>530606</td>\n",
       "      <td>4389150</td>\n",
       "      <td>POINT (530606 4389150)</td>\n",
       "      <td>1</td>\n",
       "    </tr>\n",
       "  </tbody>\n",
       "</table>\n",
       "</div>"
      ],
      "text/plain": [
       "   id  group  mix  easting  northing                geometry  seq\n",
       "0   0      1    0   530782   4389390  POINT (530782 4389390)    1\n",
       "1   1      1    0   531119   4388860  POINT (531119 4388860)    1\n",
       "2   2      1    0   530403   4388580  POINT (530403 4388580)    1\n",
       "3   3      1    0   530503   4388620  POINT (530503 4388620)    2\n",
       "4   4      1    0   530729   4388930  POINT (530729 4388930)    1\n",
       "5   5      1    0   530606   4389150  POINT (530606 4389150)    1"
      ]
     },
     "execution_count": 7,
     "metadata": {},
     "output_type": "execute_result"
    }
   ],
   "source": [
    "df.loc[3,'seq']= 2\n",
    "df"
   ]
  },
  {
   "cell_type": "markdown",
   "metadata": {},
   "source": [
    "Now, when we run ```check()``` function it will spit out an error"
   ]
  },
  {
   "cell_type": "code",
   "execution_count": 8,
   "metadata": {},
   "outputs": [
    {
     "name": "stdout",
     "output_type": "stream",
     "text": [
      "\n",
      "\n",
      " ERROR: seq column - sequence for group 1 is not 1 or sequential!\n"
     ]
    },
    {
     "ename": "TypeError",
     "evalue": "exceptions must derive from BaseException",
     "output_type": "error",
     "traceback": [
      "\u001b[1;31m---------------------------------------------------------------------------\u001b[0m",
      "\u001b[1;31mTypeError\u001b[0m                                 Traceback (most recent call last)",
      "\u001b[1;32m<ipython-input-8-a842f03b20fd>\u001b[0m in \u001b[0;36m<module>\u001b[1;34m\u001b[0m\n\u001b[1;32m----> 1\u001b[1;33m \u001b[0mng\u001b[0m\u001b[1;33m.\u001b[0m\u001b[0mcheck\u001b[0m\u001b[1;33m(\u001b[0m\u001b[0mdf\u001b[0m\u001b[1;33m)\u001b[0m\u001b[1;33m\u001b[0m\u001b[1;33m\u001b[0m\u001b[0m\n\u001b[0m",
      "\u001b[1;32mC:\\Python\\Miniconda\\envs\\netsim\\lib\\site-packages\\netsim\\generate.py\u001b[0m in \u001b[0;36mcheck\u001b[1;34m(df)\u001b[0m\n\u001b[0;32m    121\u001b[0m         \u001b[1;31m# raise exception if any errors\u001b[0m\u001b[1;33m\u001b[0m\u001b[1;33m\u001b[0m\u001b[1;33m\u001b[0m\u001b[0m\n\u001b[0;32m    122\u001b[0m         \u001b[1;32mif\u001b[0m \u001b[0merror_flag\u001b[0m\u001b[1;33m:\u001b[0m\u001b[1;33m\u001b[0m\u001b[1;33m\u001b[0m\u001b[0m\n\u001b[1;32m--> 123\u001b[1;33m             \u001b[1;32mraise\u001b[0m\u001b[1;33m(\u001b[0m\u001b[1;34m'\\nCheck errors !!! Network simulation ABORTED!! '\u001b[0m\u001b[1;33m)\u001b[0m\u001b[1;33m\u001b[0m\u001b[1;33m\u001b[0m\u001b[0m\n\u001b[0m\u001b[0;32m    124\u001b[0m     \u001b[1;32melse\u001b[0m\u001b[1;33m:\u001b[0m\u001b[1;33m\u001b[0m\u001b[1;33m\u001b[0m\u001b[0m\n\u001b[0;32m    125\u001b[0m         \u001b[0mprint\u001b[0m\u001b[1;33m(\u001b[0m\u001b[1;34m'\\n No corrections or errors !! '\u001b[0m\u001b[1;33m)\u001b[0m\u001b[1;33m\u001b[0m\u001b[1;33m\u001b[0m\u001b[0m\n",
      "\u001b[1;31mTypeError\u001b[0m: exceptions must derive from BaseException"
     ]
    }
   ],
   "source": [
    "ng.check(df)"
   ]
  },
  {
   "cell_type": "markdown",
   "metadata": {},
   "source": [
    "Let's restore this column,"
   ]
  },
  {
   "cell_type": "code",
   "execution_count": 9,
   "metadata": {},
   "outputs": [
    {
     "data": {
      "text/html": [
       "<div>\n",
       "<style scoped>\n",
       "    .dataframe tbody tr th:only-of-type {\n",
       "        vertical-align: middle;\n",
       "    }\n",
       "\n",
       "    .dataframe tbody tr th {\n",
       "        vertical-align: top;\n",
       "    }\n",
       "\n",
       "    .dataframe thead th {\n",
       "        text-align: right;\n",
       "    }\n",
       "</style>\n",
       "<table border=\"1\" class=\"dataframe\">\n",
       "  <thead>\n",
       "    <tr style=\"text-align: right;\">\n",
       "      <th></th>\n",
       "      <th>id</th>\n",
       "      <th>group</th>\n",
       "      <th>mix</th>\n",
       "      <th>easting</th>\n",
       "      <th>northing</th>\n",
       "      <th>geometry</th>\n",
       "      <th>seq</th>\n",
       "    </tr>\n",
       "  </thead>\n",
       "  <tbody>\n",
       "    <tr>\n",
       "      <th>0</th>\n",
       "      <td>0</td>\n",
       "      <td>1</td>\n",
       "      <td>0</td>\n",
       "      <td>530782</td>\n",
       "      <td>4389390</td>\n",
       "      <td>POINT (530782 4389390)</td>\n",
       "      <td>1</td>\n",
       "    </tr>\n",
       "    <tr>\n",
       "      <th>1</th>\n",
       "      <td>1</td>\n",
       "      <td>1</td>\n",
       "      <td>0</td>\n",
       "      <td>531119</td>\n",
       "      <td>4388860</td>\n",
       "      <td>POINT (531119 4388860)</td>\n",
       "      <td>1</td>\n",
       "    </tr>\n",
       "    <tr>\n",
       "      <th>2</th>\n",
       "      <td>2</td>\n",
       "      <td>1</td>\n",
       "      <td>0</td>\n",
       "      <td>530403</td>\n",
       "      <td>4388580</td>\n",
       "      <td>POINT (530403 4388580)</td>\n",
       "      <td>1</td>\n",
       "    </tr>\n",
       "    <tr>\n",
       "      <th>3</th>\n",
       "      <td>3</td>\n",
       "      <td>1</td>\n",
       "      <td>0</td>\n",
       "      <td>530503</td>\n",
       "      <td>4388620</td>\n",
       "      <td>POINT (530503 4388620)</td>\n",
       "      <td>1</td>\n",
       "    </tr>\n",
       "    <tr>\n",
       "      <th>4</th>\n",
       "      <td>4</td>\n",
       "      <td>1</td>\n",
       "      <td>0</td>\n",
       "      <td>530729</td>\n",
       "      <td>4388930</td>\n",
       "      <td>POINT (530729 4388930)</td>\n",
       "      <td>1</td>\n",
       "    </tr>\n",
       "    <tr>\n",
       "      <th>5</th>\n",
       "      <td>5</td>\n",
       "      <td>1</td>\n",
       "      <td>0</td>\n",
       "      <td>530606</td>\n",
       "      <td>4389150</td>\n",
       "      <td>POINT (530606 4389150)</td>\n",
       "      <td>1</td>\n",
       "    </tr>\n",
       "  </tbody>\n",
       "</table>\n",
       "</div>"
      ],
      "text/plain": [
       "   id  group  mix  easting  northing                geometry  seq\n",
       "0   0      1    0   530782   4389390  POINT (530782 4389390)    1\n",
       "1   1      1    0   531119   4388860  POINT (531119 4388860)    1\n",
       "2   2      1    0   530403   4388580  POINT (530403 4388580)    1\n",
       "3   3      1    0   530503   4388620  POINT (530503 4388620)    1\n",
       "4   4      1    0   530729   4388930  POINT (530729 4388930)    1\n",
       "5   5      1    0   530606   4389150  POINT (530606 4389150)    1"
      ]
     },
     "execution_count": 9,
     "metadata": {},
     "output_type": "execute_result"
    }
   ],
   "source": [
    "df['seq']= [1,1,1,1,1,1]\n",
    "df"
   ]
  },
  {
   "cell_type": "markdown",
   "metadata": {},
   "source": [
    "We can replace the original 'seq' column by another one. Provided all values in a group are unique the simulation will work. "
   ]
  },
  {
   "cell_type": "code",
   "execution_count": 10,
   "metadata": {},
   "outputs": [
    {
     "name": "stdout",
     "output_type": "stream",
     "text": [
      "\n",
      " No corrections or errors !! \n"
     ]
    },
    {
     "data": {
      "text/html": [
       "<div>\n",
       "<style scoped>\n",
       "    .dataframe tbody tr th:only-of-type {\n",
       "        vertical-align: middle;\n",
       "    }\n",
       "\n",
       "    .dataframe tbody tr th {\n",
       "        vertical-align: top;\n",
       "    }\n",
       "\n",
       "    .dataframe thead th {\n",
       "        text-align: right;\n",
       "    }\n",
       "</style>\n",
       "<table border=\"1\" class=\"dataframe\">\n",
       "  <thead>\n",
       "    <tr style=\"text-align: right;\">\n",
       "      <th></th>\n",
       "      <th>id</th>\n",
       "      <th>group</th>\n",
       "      <th>mix</th>\n",
       "      <th>easting</th>\n",
       "      <th>northing</th>\n",
       "      <th>geometry</th>\n",
       "      <th>seq</th>\n",
       "    </tr>\n",
       "  </thead>\n",
       "  <tbody>\n",
       "    <tr>\n",
       "      <th>0</th>\n",
       "      <td>0</td>\n",
       "      <td>1</td>\n",
       "      <td>0</td>\n",
       "      <td>530782</td>\n",
       "      <td>4389390</td>\n",
       "      <td>POINT (530782 4389390)</td>\n",
       "      <td>3</td>\n",
       "    </tr>\n",
       "    <tr>\n",
       "      <th>1</th>\n",
       "      <td>1</td>\n",
       "      <td>1</td>\n",
       "      <td>0</td>\n",
       "      <td>531119</td>\n",
       "      <td>4388860</td>\n",
       "      <td>POINT (531119 4388860)</td>\n",
       "      <td>4</td>\n",
       "    </tr>\n",
       "    <tr>\n",
       "      <th>2</th>\n",
       "      <td>2</td>\n",
       "      <td>1</td>\n",
       "      <td>0</td>\n",
       "      <td>530403</td>\n",
       "      <td>4388580</td>\n",
       "      <td>POINT (530403 4388580)</td>\n",
       "      <td>5</td>\n",
       "    </tr>\n",
       "    <tr>\n",
       "      <th>3</th>\n",
       "      <td>3</td>\n",
       "      <td>1</td>\n",
       "      <td>0</td>\n",
       "      <td>530503</td>\n",
       "      <td>4388620</td>\n",
       "      <td>POINT (530503 4388620)</td>\n",
       "      <td>6</td>\n",
       "    </tr>\n",
       "    <tr>\n",
       "      <th>4</th>\n",
       "      <td>4</td>\n",
       "      <td>1</td>\n",
       "      <td>0</td>\n",
       "      <td>530729</td>\n",
       "      <td>4388930</td>\n",
       "      <td>POINT (530729 4388930)</td>\n",
       "      <td>7</td>\n",
       "    </tr>\n",
       "    <tr>\n",
       "      <th>5</th>\n",
       "      <td>5</td>\n",
       "      <td>1</td>\n",
       "      <td>0</td>\n",
       "      <td>530606</td>\n",
       "      <td>4389150</td>\n",
       "      <td>POINT (530606 4389150)</td>\n",
       "      <td>8</td>\n",
       "    </tr>\n",
       "  </tbody>\n",
       "</table>\n",
       "</div>"
      ],
      "text/plain": [
       "   id  group  mix  easting  northing                geometry  seq\n",
       "0   0      1    0   530782   4389390  POINT (530782 4389390)    3\n",
       "1   1      1    0   531119   4388860  POINT (531119 4388860)    4\n",
       "2   2      1    0   530403   4388580  POINT (530403 4388580)    5\n",
       "3   3      1    0   530503   4388620  POINT (530503 4388620)    6\n",
       "4   4      1    0   530729   4388930  POINT (530729 4388930)    7\n",
       "5   5      1    0   530606   4389150  POINT (530606 4389150)    8"
      ]
     },
     "execution_count": 10,
     "metadata": {},
     "output_type": "execute_result"
    }
   ],
   "source": [
    "df['seq']= [3,4,5,6,7,8]\n",
    "ng.check(df)"
   ]
  },
  {
   "cell_type": "markdown",
   "metadata": {},
   "source": [
    "### Creating a network generator\n",
    "\n",
    "The next step is to run the ```create_network_generator()``` function. The main aim of this function is to generate a **network generator** that we can later use to produce different versions, or iterations, of our network. The function provide us with additional information: a dictionary with details about the type of iteration for each group and the total number of iterations that are possible. Let's explore this function"
   ]
  },
  {
   "cell_type": "code",
   "execution_count": 11,
   "metadata": {},
   "outputs": [
    {
     "name": "stdout",
     "output_type": "stream",
     "text": [
      "\n",
      " iteration broken per group....\n",
      "\n",
      "   group  num_loc  num_iter iter_type\n",
      "0      1        6         1    single\n",
      "\n",
      " total number of iterations.... 1\n"
     ]
    }
   ],
   "source": [
    "netgentor, net_info, total_iterations = ng.create_network_generator(df)"
   ]
  },
  {
   "cell_type": "code",
   "execution_count": 12,
   "metadata": {},
   "outputs": [
    {
     "data": {
      "text/html": [
       "<div>\n",
       "<style scoped>\n",
       "    .dataframe tbody tr th:only-of-type {\n",
       "        vertical-align: middle;\n",
       "    }\n",
       "\n",
       "    .dataframe tbody tr th {\n",
       "        vertical-align: top;\n",
       "    }\n",
       "\n",
       "    .dataframe thead th {\n",
       "        text-align: right;\n",
       "    }\n",
       "</style>\n",
       "<table border=\"1\" class=\"dataframe\">\n",
       "  <thead>\n",
       "    <tr style=\"text-align: right;\">\n",
       "      <th></th>\n",
       "      <th>group</th>\n",
       "      <th>num_loc</th>\n",
       "      <th>num_iter</th>\n",
       "      <th>iter_type</th>\n",
       "    </tr>\n",
       "  </thead>\n",
       "  <tbody>\n",
       "    <tr>\n",
       "      <th>0</th>\n",
       "      <td>1</td>\n",
       "      <td>6</td>\n",
       "      <td>1</td>\n",
       "      <td>single</td>\n",
       "    </tr>\n",
       "  </tbody>\n",
       "</table>\n",
       "</div>"
      ],
      "text/plain": [
       "   group  num_loc  num_iter iter_type\n",
       "0      1        6         1    single"
      ]
     },
     "execution_count": 12,
     "metadata": {},
     "output_type": "execute_result"
    }
   ],
   "source": [
    "net_info"
   ]
  },
  {
   "cell_type": "markdown",
   "metadata": {},
   "source": [
    "The above example is not very informative given that we have specified one one group with a single ordering. Let us change the sequence column to all 1s and see what happens."
   ]
  },
  {
   "cell_type": "code",
   "execution_count": 13,
   "metadata": {},
   "outputs": [
    {
     "data": {
      "text/html": [
       "<div>\n",
       "<style scoped>\n",
       "    .dataframe tbody tr th:only-of-type {\n",
       "        vertical-align: middle;\n",
       "    }\n",
       "\n",
       "    .dataframe tbody tr th {\n",
       "        vertical-align: top;\n",
       "    }\n",
       "\n",
       "    .dataframe thead th {\n",
       "        text-align: right;\n",
       "    }\n",
       "</style>\n",
       "<table border=\"1\" class=\"dataframe\">\n",
       "  <thead>\n",
       "    <tr style=\"text-align: right;\">\n",
       "      <th></th>\n",
       "      <th>id</th>\n",
       "      <th>group</th>\n",
       "      <th>mix</th>\n",
       "      <th>easting</th>\n",
       "      <th>northing</th>\n",
       "      <th>geometry</th>\n",
       "      <th>seq</th>\n",
       "    </tr>\n",
       "  </thead>\n",
       "  <tbody>\n",
       "    <tr>\n",
       "      <th>0</th>\n",
       "      <td>0</td>\n",
       "      <td>1</td>\n",
       "      <td>0</td>\n",
       "      <td>530782</td>\n",
       "      <td>4389390</td>\n",
       "      <td>POINT (530782 4389390)</td>\n",
       "      <td>1</td>\n",
       "    </tr>\n",
       "    <tr>\n",
       "      <th>1</th>\n",
       "      <td>1</td>\n",
       "      <td>1</td>\n",
       "      <td>0</td>\n",
       "      <td>531119</td>\n",
       "      <td>4388860</td>\n",
       "      <td>POINT (531119 4388860)</td>\n",
       "      <td>1</td>\n",
       "    </tr>\n",
       "    <tr>\n",
       "      <th>2</th>\n",
       "      <td>2</td>\n",
       "      <td>1</td>\n",
       "      <td>0</td>\n",
       "      <td>530403</td>\n",
       "      <td>4388580</td>\n",
       "      <td>POINT (530403 4388580)</td>\n",
       "      <td>1</td>\n",
       "    </tr>\n",
       "    <tr>\n",
       "      <th>3</th>\n",
       "      <td>3</td>\n",
       "      <td>1</td>\n",
       "      <td>0</td>\n",
       "      <td>530503</td>\n",
       "      <td>4388620</td>\n",
       "      <td>POINT (530503 4388620)</td>\n",
       "      <td>1</td>\n",
       "    </tr>\n",
       "    <tr>\n",
       "      <th>4</th>\n",
       "      <td>4</td>\n",
       "      <td>1</td>\n",
       "      <td>0</td>\n",
       "      <td>530729</td>\n",
       "      <td>4388930</td>\n",
       "      <td>POINT (530729 4388930)</td>\n",
       "      <td>1</td>\n",
       "    </tr>\n",
       "    <tr>\n",
       "      <th>5</th>\n",
       "      <td>5</td>\n",
       "      <td>1</td>\n",
       "      <td>0</td>\n",
       "      <td>530606</td>\n",
       "      <td>4389150</td>\n",
       "      <td>POINT (530606 4389150)</td>\n",
       "      <td>1</td>\n",
       "    </tr>\n",
       "  </tbody>\n",
       "</table>\n",
       "</div>"
      ],
      "text/plain": [
       "   id  group  mix  easting  northing                geometry  seq\n",
       "0   0      1    0   530782   4389390  POINT (530782 4389390)    1\n",
       "1   1      1    0   531119   4388860  POINT (531119 4388860)    1\n",
       "2   2      1    0   530403   4388580  POINT (530403 4388580)    1\n",
       "3   3      1    0   530503   4388620  POINT (530503 4388620)    1\n",
       "4   4      1    0   530729   4388930  POINT (530729 4388930)    1\n",
       "5   5      1    0   530606   4389150  POINT (530606 4389150)    1"
      ]
     },
     "execution_count": 13,
     "metadata": {},
     "output_type": "execute_result"
    }
   ],
   "source": [
    "df['seq'] = [1,1,1,1,1,1]\n",
    "df"
   ]
  },
  {
   "cell_type": "code",
   "execution_count": 14,
   "metadata": {},
   "outputs": [
    {
     "name": "stdout",
     "output_type": "stream",
     "text": [
      "\n",
      " iteration broken per group....\n",
      "\n",
      "   group  num_loc  num_iter iter_type\n",
      "0      1        6       100    sample\n",
      "\n",
      " total number of iterations.... 100\n"
     ]
    }
   ],
   "source": [
    "netgentor, net_info, total_iterations = ng.create_network_generator(df)"
   ]
  },
  {
   "cell_type": "code",
   "execution_count": 15,
   "metadata": {},
   "outputs": [
    {
     "data": {
      "text/html": [
       "<div>\n",
       "<style scoped>\n",
       "    .dataframe tbody tr th:only-of-type {\n",
       "        vertical-align: middle;\n",
       "    }\n",
       "\n",
       "    .dataframe tbody tr th {\n",
       "        vertical-align: top;\n",
       "    }\n",
       "\n",
       "    .dataframe thead th {\n",
       "        text-align: right;\n",
       "    }\n",
       "</style>\n",
       "<table border=\"1\" class=\"dataframe\">\n",
       "  <thead>\n",
       "    <tr style=\"text-align: right;\">\n",
       "      <th></th>\n",
       "      <th>group</th>\n",
       "      <th>num_loc</th>\n",
       "      <th>num_iter</th>\n",
       "      <th>iter_type</th>\n",
       "    </tr>\n",
       "  </thead>\n",
       "  <tbody>\n",
       "    <tr>\n",
       "      <th>0</th>\n",
       "      <td>1</td>\n",
       "      <td>6</td>\n",
       "      <td>100</td>\n",
       "      <td>sample</td>\n",
       "    </tr>\n",
       "  </tbody>\n",
       "</table>\n",
       "</div>"
      ],
      "text/plain": [
       "   group  num_loc  num_iter iter_type\n",
       "0      1        6       100    sample"
      ]
     },
     "execution_count": 15,
     "metadata": {},
     "output_type": "execute_result"
    }
   ],
   "source": [
    "net_info"
   ]
  },
  {
   "cell_type": "markdown",
   "metadata": {},
   "source": [
    "Notice how the iteration type (iter_type) has changed from 'single' to 'sample' and the number of iterations (num_iter) has gone from 1 to 100 (also the total number of iterations is now 100). This number 100 is the default number of interations that are generated when the number of locations in a group is greater than 5. \n",
    "\n",
    "Here is an example of one of the possible network iterations,"
   ]
  },
  {
   "cell_type": "code",
   "execution_count": 16,
   "metadata": {},
   "outputs": [
    {
     "data": {
      "text/plain": [
       "[(5, 0, 2, 4, 3, 1)]"
      ]
     },
     "execution_count": 16,
     "metadata": {},
     "output_type": "execute_result"
    }
   ],
   "source": [
    "list(next(netgentor))"
   ]
  },
  {
   "cell_type": "markdown",
   "metadata": {},
   "source": [
    "You can use ```next()``` function on the network generator instance repeatedly until you arrive to *total_iterations*. For instance, the next code generates 5 new interations,"
   ]
  },
  {
   "cell_type": "code",
   "execution_count": 17,
   "metadata": {},
   "outputs": [
    {
     "name": "stdout",
     "output_type": "stream",
     "text": [
      "((4, 1, 5, 3, 0, 2),)\n",
      "((3, 4, 1, 2, 5, 0),)\n",
      "((4, 2, 0, 5, 3, 1),)\n",
      "((1, 0, 3, 2, 5, 4),)\n",
      "((3, 4, 0, 5, 2, 1),)\n"
     ]
    }
   ],
   "source": [
    "for i in range(5):\n",
    "    print(next(netgentor))"
   ]
  },
  {
   "cell_type": "markdown",
   "metadata": {},
   "source": [
    "Let's change the number of groups so that we end up with two groups of two and four locations."
   ]
  },
  {
   "cell_type": "code",
   "execution_count": 18,
   "metadata": {},
   "outputs": [
    {
     "data": {
      "text/html": [
       "<div>\n",
       "<style scoped>\n",
       "    .dataframe tbody tr th:only-of-type {\n",
       "        vertical-align: middle;\n",
       "    }\n",
       "\n",
       "    .dataframe tbody tr th {\n",
       "        vertical-align: top;\n",
       "    }\n",
       "\n",
       "    .dataframe thead th {\n",
       "        text-align: right;\n",
       "    }\n",
       "</style>\n",
       "<table border=\"1\" class=\"dataframe\">\n",
       "  <thead>\n",
       "    <tr style=\"text-align: right;\">\n",
       "      <th></th>\n",
       "      <th>id</th>\n",
       "      <th>group</th>\n",
       "      <th>mix</th>\n",
       "      <th>easting</th>\n",
       "      <th>northing</th>\n",
       "      <th>geometry</th>\n",
       "      <th>seq</th>\n",
       "    </tr>\n",
       "  </thead>\n",
       "  <tbody>\n",
       "    <tr>\n",
       "      <th>0</th>\n",
       "      <td>0</td>\n",
       "      <td>1</td>\n",
       "      <td>0</td>\n",
       "      <td>530782</td>\n",
       "      <td>4389390</td>\n",
       "      <td>POINT (530782 4389390)</td>\n",
       "      <td>1</td>\n",
       "    </tr>\n",
       "    <tr>\n",
       "      <th>1</th>\n",
       "      <td>1</td>\n",
       "      <td>1</td>\n",
       "      <td>0</td>\n",
       "      <td>531119</td>\n",
       "      <td>4388860</td>\n",
       "      <td>POINT (531119 4388860)</td>\n",
       "      <td>1</td>\n",
       "    </tr>\n",
       "    <tr>\n",
       "      <th>2</th>\n",
       "      <td>2</td>\n",
       "      <td>2</td>\n",
       "      <td>0</td>\n",
       "      <td>530403</td>\n",
       "      <td>4388580</td>\n",
       "      <td>POINT (530403 4388580)</td>\n",
       "      <td>1</td>\n",
       "    </tr>\n",
       "    <tr>\n",
       "      <th>3</th>\n",
       "      <td>3</td>\n",
       "      <td>2</td>\n",
       "      <td>0</td>\n",
       "      <td>530503</td>\n",
       "      <td>4388620</td>\n",
       "      <td>POINT (530503 4388620)</td>\n",
       "      <td>1</td>\n",
       "    </tr>\n",
       "    <tr>\n",
       "      <th>4</th>\n",
       "      <td>4</td>\n",
       "      <td>2</td>\n",
       "      <td>0</td>\n",
       "      <td>530729</td>\n",
       "      <td>4388930</td>\n",
       "      <td>POINT (530729 4388930)</td>\n",
       "      <td>1</td>\n",
       "    </tr>\n",
       "    <tr>\n",
       "      <th>5</th>\n",
       "      <td>5</td>\n",
       "      <td>2</td>\n",
       "      <td>0</td>\n",
       "      <td>530606</td>\n",
       "      <td>4389150</td>\n",
       "      <td>POINT (530606 4389150)</td>\n",
       "      <td>1</td>\n",
       "    </tr>\n",
       "  </tbody>\n",
       "</table>\n",
       "</div>"
      ],
      "text/plain": [
       "   id  group  mix  easting  northing                geometry  seq\n",
       "0   0      1    0   530782   4389390  POINT (530782 4389390)    1\n",
       "1   1      1    0   531119   4388860  POINT (531119 4388860)    1\n",
       "2   2      2    0   530403   4388580  POINT (530403 4388580)    1\n",
       "3   3      2    0   530503   4388620  POINT (530503 4388620)    1\n",
       "4   4      2    0   530729   4388930  POINT (530729 4388930)    1\n",
       "5   5      2    0   530606   4389150  POINT (530606 4389150)    1"
      ]
     },
     "execution_count": 18,
     "metadata": {},
     "output_type": "execute_result"
    }
   ],
   "source": [
    "sel = df['id'].isin([2, 3, 4, 5])\n",
    "df.loc[sel,'group']= 2\n",
    "df"
   ]
  },
  {
   "cell_type": "markdown",
   "metadata": {},
   "source": [
    "Let's first re-run ```check()``` to make sure that our new dataframe is fine and then ```create_network_generator()```"
   ]
  },
  {
   "cell_type": "code",
   "execution_count": 19,
   "metadata": {},
   "outputs": [
    {
     "name": "stdout",
     "output_type": "stream",
     "text": [
      "\n",
      " No corrections or errors !! \n"
     ]
    },
    {
     "data": {
      "text/html": [
       "<div>\n",
       "<style scoped>\n",
       "    .dataframe tbody tr th:only-of-type {\n",
       "        vertical-align: middle;\n",
       "    }\n",
       "\n",
       "    .dataframe tbody tr th {\n",
       "        vertical-align: top;\n",
       "    }\n",
       "\n",
       "    .dataframe thead th {\n",
       "        text-align: right;\n",
       "    }\n",
       "</style>\n",
       "<table border=\"1\" class=\"dataframe\">\n",
       "  <thead>\n",
       "    <tr style=\"text-align: right;\">\n",
       "      <th></th>\n",
       "      <th>id</th>\n",
       "      <th>group</th>\n",
       "      <th>mix</th>\n",
       "      <th>easting</th>\n",
       "      <th>northing</th>\n",
       "      <th>geometry</th>\n",
       "      <th>seq</th>\n",
       "    </tr>\n",
       "  </thead>\n",
       "  <tbody>\n",
       "    <tr>\n",
       "      <th>0</th>\n",
       "      <td>0</td>\n",
       "      <td>1</td>\n",
       "      <td>0</td>\n",
       "      <td>530782</td>\n",
       "      <td>4389390</td>\n",
       "      <td>POINT (530782 4389390)</td>\n",
       "      <td>1</td>\n",
       "    </tr>\n",
       "    <tr>\n",
       "      <th>1</th>\n",
       "      <td>1</td>\n",
       "      <td>1</td>\n",
       "      <td>0</td>\n",
       "      <td>531119</td>\n",
       "      <td>4388860</td>\n",
       "      <td>POINT (531119 4388860)</td>\n",
       "      <td>1</td>\n",
       "    </tr>\n",
       "    <tr>\n",
       "      <th>2</th>\n",
       "      <td>2</td>\n",
       "      <td>2</td>\n",
       "      <td>0</td>\n",
       "      <td>530403</td>\n",
       "      <td>4388580</td>\n",
       "      <td>POINT (530403 4388580)</td>\n",
       "      <td>1</td>\n",
       "    </tr>\n",
       "    <tr>\n",
       "      <th>3</th>\n",
       "      <td>3</td>\n",
       "      <td>2</td>\n",
       "      <td>0</td>\n",
       "      <td>530503</td>\n",
       "      <td>4388620</td>\n",
       "      <td>POINT (530503 4388620)</td>\n",
       "      <td>1</td>\n",
       "    </tr>\n",
       "    <tr>\n",
       "      <th>4</th>\n",
       "      <td>4</td>\n",
       "      <td>2</td>\n",
       "      <td>0</td>\n",
       "      <td>530729</td>\n",
       "      <td>4388930</td>\n",
       "      <td>POINT (530729 4388930)</td>\n",
       "      <td>1</td>\n",
       "    </tr>\n",
       "    <tr>\n",
       "      <th>5</th>\n",
       "      <td>5</td>\n",
       "      <td>2</td>\n",
       "      <td>0</td>\n",
       "      <td>530606</td>\n",
       "      <td>4389150</td>\n",
       "      <td>POINT (530606 4389150)</td>\n",
       "      <td>1</td>\n",
       "    </tr>\n",
       "  </tbody>\n",
       "</table>\n",
       "</div>"
      ],
      "text/plain": [
       "   id  group  mix  easting  northing                geometry  seq\n",
       "0   0      1    0   530782   4389390  POINT (530782 4389390)    1\n",
       "1   1      1    0   531119   4388860  POINT (531119 4388860)    1\n",
       "2   2      2    0   530403   4388580  POINT (530403 4388580)    1\n",
       "3   3      2    0   530503   4388620  POINT (530503 4388620)    1\n",
       "4   4      2    0   530729   4388930  POINT (530729 4388930)    1\n",
       "5   5      2    0   530606   4389150  POINT (530606 4389150)    1"
      ]
     },
     "execution_count": 19,
     "metadata": {},
     "output_type": "execute_result"
    }
   ],
   "source": [
    "ng.check(df)"
   ]
  },
  {
   "cell_type": "code",
   "execution_count": 20,
   "metadata": {},
   "outputs": [
    {
     "name": "stdout",
     "output_type": "stream",
     "text": [
      "\n",
      " iteration broken per group....\n",
      "\n",
      "   group  num_loc  num_iter    iter_type\n",
      "0      1        2         2  permutation\n",
      "1      2        4        24  permutation\n",
      "\n",
      " total number of iterations.... 48\n"
     ]
    }
   ],
   "source": [
    "netgentor, net_info, total_iterations = ng.create_network_generator(df)"
   ]
  },
  {
   "cell_type": "markdown",
   "metadata": {},
   "source": [
    "Notice how the iteration type (iter_type) has changed to 'permutation' and how the total number of permutations (48) is the product of two permutations. Let's ask for a few iterations and see what they look like,"
   ]
  },
  {
   "cell_type": "code",
   "execution_count": 21,
   "metadata": {},
   "outputs": [
    {
     "name": "stdout",
     "output_type": "stream",
     "text": [
      "((0, 1), (2, 3, 4, 5))\n",
      "((0, 1), (2, 3, 5, 4))\n",
      "((0, 1), (2, 4, 3, 5))\n",
      "((0, 1), (2, 4, 5, 3))\n",
      "((0, 1), (2, 5, 3, 4))\n"
     ]
    }
   ],
   "source": [
    "for i in range(5):\n",
    "    print(next(netgentor))"
   ]
  },
  {
   "cell_type": "markdown",
   "metadata": {},
   "source": [
    "This conclude this tutorial. Next tutorial will explore a bit more the `generate` module. It will focus on the different types of network layouts that you can generate for a given sequence of locations."
   ]
  }
 ],
 "metadata": {
  "anaconda-cloud": {},
  "kernelspec": {
   "display_name": "Python 3",
   "language": "python",
   "name": "python3"
  },
  "language_info": {
   "codemirror_mode": {
    "name": "ipython",
    "version": 3
   },
   "file_extension": ".py",
   "mimetype": "text/x-python",
   "name": "python",
   "nbconvert_exporter": "python",
   "pygments_lexer": "ipython3",
   "version": "3.7.3"
  }
 },
 "nbformat": 4,
 "nbformat_minor": 4
}
